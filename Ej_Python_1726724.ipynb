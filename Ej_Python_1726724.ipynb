{
 "cells": [
  {
   "cell_type": "markdown",
   "metadata": {},
   "source": [
    "### Ejercicio 1:\n",
    "Realiza una variable con tu matricula y realiza una secuencia de imprimir con tu nombre y tu matricula concatenados."
   ]
  },
  {
   "cell_type": "code",
   "execution_count": 7,
   "metadata": {},
   "outputs": [
    {
     "name": "stdout",
     "output_type": "stream",
     "text": [
      "introduce tu matricula:1726724 \n",
      "introduce tu nombre: Areli Tolentino\n",
      "Tu matricula y nombre son: 1726724 Areli Tolentino\n"
     ]
    }
   ],
   "source": [
    "m=str(input(\"introduce tu matricula:\"))\n",
    "n=str(input(\"introduce tu nombre: \"))\n",
    "print(\"Tu matricula y nombre son:\", m+n )"
   ]
  },
  {
   "cell_type": "markdown",
   "metadata": {},
   "source": [
    "### Ejercicio 2:\n",
    "Pidiendo el input del usuario pide dos números y crea una pequeña calculadora con los operadores básicos de suma, resta, multiplicación, división, y exponente."
   ]
  },
  {
   "cell_type": "code",
   "execution_count": 19,
   "metadata": {},
   "outputs": [
    {
     "name": "stdout",
     "output_type": "stream",
     "text": [
      "introduce un numero: 5\n",
      "introduce un numero: 3\n",
      "La suma es:  8.0 \n",
      "La resta es: 2.0 \n",
      "La multiplicacion es: 15.0 \n",
      "La division es: 1.6666666666666667 \n",
      "El exponente es: 125.0\n"
     ]
    }
   ],
   "source": [
    "a=float(input(\"introduce un numero: \"))\n",
    "b=float(input(\"introduce un numero: \"))\n",
    "suma=a+b\n",
    "rest=a-b\n",
    "multi=a*b\n",
    "div=a/b\n",
    "exp=a**b\n",
    "\n",
    "print (\"La suma es: \",suma,  \"\\nLa resta es:\", rest,\"\\nLa multiplicacion es:\", multi,\"\\nLa division es:\", div,\"\\nEl exponente es:\", exp)\n",
    "\n"
   ]
  },
  {
   "cell_type": "markdown",
   "metadata": {},
   "source": [
    "### Ejercicio 3:\n",
    "Con loop while o for, realiza una lista de 10 numeros multiplos de 3, y después realiza una función de loop que sume todos los números dentro del arreglo."
   ]
  },
  {
   "cell_type": "code",
   "execution_count": 27,
   "metadata": {},
   "outputs": [
    {
     "name": "stdout",
     "output_type": "stream",
     "text": [
      "La lista de 10 numeros multiplos de 3 es: [3, 6, 9, 12, 15, 18, 21, 24, 27, 30] \n",
      " Su suma es: 165\n"
     ]
    }
   ],
   "source": [
    "lista=list(range(1,31))\n",
    "listan=[]\n",
    "for i in lista:\n",
    "    if i%3==0:\n",
    "        listan.append(i)\n",
    "suma=sum(listan)\n",
    "\n",
    "print(\"La lista de 10 numeros multiplos de 3 es:\",listan,\"\\n Su suma es:\",suma)\n",
    "\n"
   ]
  },
  {
   "cell_type": "markdown",
   "metadata": {},
   "source": [
    "### Ejercicio 4:\n",
    "- Con una función de if else, revisar si un número es par o es impar.\n"
   ]
  },
  {
   "cell_type": "code",
   "execution_count": 33,
   "metadata": {},
   "outputs": [
    {
     "name": "stdout",
     "output_type": "stream",
     "text": [
      "introduce un numero: 678276753\n",
      "Tu numero introducido es impar.\n"
     ]
    }
   ],
   "source": [
    "x=float(input(\"introduce un numero: \"))\n",
    "h=x%2\n",
    "if h==0:\n",
    "    print(\"Tu numero introducido es par.\")\n",
    "else:\n",
    "    print(\"Tu numero introducido es impar.\")\n"
   ]
  },
  {
   "cell_type": "markdown",
   "metadata": {},
   "source": [
    "- Con una función de if else, revisar si un número es primo o no."
   ]
  },
  {
   "cell_type": "code",
   "execution_count": 67,
   "metadata": {},
   "outputs": [
    {
     "name": "stdout",
     "output_type": "stream",
     "text": [
      "introduce un numero: 9762\n",
      "Tu numero no es primo.\n"
     ]
    }
   ],
   "source": [
    "def esprimo(num):\n",
    "    if num < 1:\n",
    "        return False\n",
    "    elif num == 2:\n",
    "        return True\n",
    "    else:\n",
    "        for i in range(2, num):\n",
    "            if num % i == 0:\n",
    "                return False\n",
    "        return True            \n",
    "\n",
    "def app():\n",
    "    num = int(input(\"introduce un numero: \"))\n",
    "    resultado = esprimo(num)\n",
    "    if resultado==True:\n",
    "        print(\"Tu numero es primo.\")\n",
    "    else:\n",
    "        print(\"Tu numero no es primo.\")\n",
    "app()  "
   ]
  },
  {
   "cell_type": "markdown",
   "metadata": {},
   "source": [
    "### Ejercicio 5:\n",
    "Utilizando diferentes clases en python, crea una calculadora con los operadores básicos de suma, resta, multiplicación, división, y exponente."
   ]
  },
  {
   "cell_type": "code",
   "execution_count": 20,
   "metadata": {},
   "outputs": [
    {
     "name": "stdout",
     "output_type": "stream",
     "text": [
      "Escoger la opcion deseada: \n",
      "1-Sumar los numeros \n",
      "2-Restar los numeros \n",
      "3-Multiplicar los numeros \n",
      "4-Dividir los numeros \n",
      "5-Elevar los numeros \n",
      "4\n",
      "ingresa un numero:900\n",
      "ingresa un numero:5\n",
      "La division es:  180.0\n"
     ]
    }
   ],
   "source": [
    "def suma(a,b):\n",
    "    print(\"La suma es: \", a+b)\n",
    "def res(a,b):\n",
    "    print(\"La resta es: \",a-b)\n",
    "def mul(a,b):\n",
    "    print(\"La multiplicacion es: \", a*b)\n",
    "def div(a,b):\n",
    "    print(\"La division es: \", a/b)\n",
    "def ex(a,b):\n",
    "    print(\"El exponencial es: \", a**b)\n",
    "def dato():\n",
    "    c=int(input(\"Escoger la opcion deseada: \\n1-Sumar los numeros \\n2-Restar los numeros \\n3-Multiplicar los numeros \\n4-Dividir los numeros \\n5-Elevar los numeros \\n\"))\n",
    "    if c==1:\n",
    "        a=int(input(\"ingresa un numero:\"))\n",
    "        b=int(input(\"ingresa un numero:\"))\n",
    "        suma(a,b)\n",
    "    elif c==2:\n",
    "        a=int(input(\"ingresa un numero:\"))\n",
    "        b=int(input(\"ingresa un numero:\"))\n",
    "        res(a,b)\n",
    "    elif c==3:\n",
    "        a=int(input(\"ingresa un numero:\"))\n",
    "        b=int(input(\"ingresa un numero:\"))\n",
    "        mul(a,b)\n",
    "    elif c==4:\n",
    "        a=int(input(\"ingresa un numero:\"))\n",
    "        b=int(input(\"ingresa un numero:\"))\n",
    "        div(a,b)\n",
    "    elif c==5:\n",
    "        a=int(input(\"ingresa un numero:\"))\n",
    "        b=int(input(\"ingresa un numero:\"))\n",
    "        ex(a,b)\n",
    "    else:\n",
    "        print(\"Opcion no encontrada.Favor de escoger otra.\")\n",
    "        dato()\n",
    "        \n",
    "    \n",
    "dato()"
   ]
  },
  {
   "cell_type": "markdown",
   "metadata": {},
   "source": [
    "### Ejercicios con estructuras básicas de python.\n",
    "#### Tuplas\n",
    "- Crear una variable flotante, integer, boleana y compleja e imprimir el tipo de variable que es."
   ]
  },
  {
   "cell_type": "code",
   "execution_count": 30,
   "metadata": {},
   "outputs": [
    {
     "name": "stdout",
     "output_type": "stream",
     "text": [
      "La variable f es clase tipo:  <class 'float'>\n",
      "La variable i es clase tipo:  <class 'int'>\n",
      "La variable b es clase tipo:  <class 'bool'>\n",
      "La variable c es clase tipo:  <class 'complex'>\n"
     ]
    }
   ],
   "source": [
    "f=5.765428\n",
    "i=230\n",
    "b=True\n",
    "c=0.8765j\n",
    "print(\"La variable f es clase tipo: \",type(f))\n",
    "print(\"La variable i es clase tipo: \",type(i))\n",
    "print(\"La variable b es clase tipo: \",type(b))\n",
    "print(\"La variable c es clase tipo: \",type(c))"
   ]
  },
  {
   "cell_type": "markdown",
   "metadata": {},
   "source": [
    "- Crear una tupla con valores enteros imprimir el primer y ultimo valor."
   ]
  },
  {
   "cell_type": "code",
   "execution_count": 36,
   "metadata": {},
   "outputs": [
    {
     "name": "stdout",
     "output_type": "stream",
     "text": [
      "El primer numero de la tupla es:  21\n",
      "El ultimo numero de la tupla es:  2\n"
     ]
    }
   ],
   "source": [
    "tupla=(21,4,7,0,6,4,2,4,75,4,2)\n",
    "print(\"El primer numero de la tupla es: \", tupla[0])\n",
    "print(\"El ultimo numero de la tupla es: \", tupla[-1])"
   ]
  },
  {
   "cell_type": "markdown",
   "metadata": {},
   "source": [
    "- Añadir 3 valores de string a la tupla."
   ]
  },
  {
   "cell_type": "code",
   "execution_count": null,
   "metadata": {},
   "outputs": [],
   "source": [
    "# las tuplas no se modifican"
   ]
  },
  {
   "cell_type": "markdown",
   "metadata": {},
   "source": [
    "- Verificar si una variable existe dentro de la tupla."
   ]
  },
  {
   "cell_type": "code",
   "execution_count": 20,
   "metadata": {},
   "outputs": [
    {
     "name": "stdout",
     "output_type": "stream",
     "text": [
      "Ingrese un dato a buscar:b\n",
      "su dato no fue encontrado en la tupla\n"
     ]
    }
   ],
   "source": [
    "tup=('a','e','i','o','u')\n",
    "a=str(input(\"Ingrese un dato a buscar:\"))\n",
    "if ((a in tup)==True):\n",
    "    print(\"su dato fue encontrado en la tupla\")\n",
    "else:\n",
    "    print(\"su dato no fue encontrado en la tupla\")\n",
    "    "
   ]
  },
  {
   "cell_type": "markdown",
   "metadata": {},
   "source": [
    "#### Listas\n",
    "- Crear una lista con 40 elementos aleatorios enteros."
   ]
  },
  {
   "cell_type": "code",
   "execution_count": 44,
   "metadata": {},
   "outputs": [
    {
     "name": "stdout",
     "output_type": "stream",
     "text": [
      "Los 40 elementos son: [488, 917, 175, 526, 85, 884, 339, 1082, 634, 656, 54, 424, 408, 397, 475, 1161, 160, 492, 1152, 891, 735, 1162, 20, 874, 1185, 508, 213, 1184, 419, 310, 363, 877, 335, 673, 1036, 496, 422, 745, 1074, 428]\n"
     ]
    }
   ],
   "source": [
    "import random\n",
    "listAle=[random.randint(0,1234) for i in range(40)]\n",
    "print(\"Los 40 elementos son:\",listAle)"
   ]
  },
  {
   "cell_type": "markdown",
   "metadata": {},
   "source": [
    "- Con una funcion (def) crear dos listas nuevas a partir de la lista creada por numeros aleatorios, en la cual en una esten los elementos pares, y en la otra los elementos impares."
   ]
  },
  {
   "cell_type": "code",
   "execution_count": 50,
   "metadata": {},
   "outputs": [
    {
     "name": "stdout",
     "output_type": "stream",
     "text": [
      "La lista de numeros pares aleatorios es: [488, 526, 884, 1082, 634, 656, 54, 424, 408, 160, 492, 1152, 1162, 20, 874, 508, 1184, 310, 1036, 496, 422, 1074, 428]\n",
      "La lista de numeros impares aleatorios es: [917, 175, 85, 339, 397, 475, 1161, 891, 735, 1185, 213, 419, 363, 877, 335, 673, 745]\n"
     ]
    }
   ],
   "source": [
    "listAle=[488, 917, 175, 526, 85, 884, 339, 1082, 634, 656, 54, 424, 408, 397, 475, 1161, 160, 492, 1152, 891, 735, 1162, 20, 874, 1185, 508, 213, 1184, 419, 310, 363, 877, 335, 673, 1036, 496, 422, 745, 1074, 428]\n",
    "listpar=[]\n",
    "listimp=[]\n",
    "def listas():\n",
    "    for i in range(40):\n",
    "        h=listAle[i]%2\n",
    "        if h==0:\n",
    "            listpar.append(listAle[i])\n",
    "        else:\n",
    "            listimp.append(listAle[i])\n",
    "    print(\"La lista de numeros pares aleatorios es:\",listpar)\n",
    "    print(\"La lista de numeros impares aleatorios es:\",listimp)\n",
    "listas()"
   ]
  },
  {
   "cell_type": "markdown",
   "metadata": {},
   "source": [
    "- Crear dos variables con la longitud de ambas listas nuevas e imprimir las variables."
   ]
  },
  {
   "cell_type": "code",
   "execution_count": 51,
   "metadata": {},
   "outputs": [
    {
     "name": "stdout",
     "output_type": "stream",
     "text": [
      "La longitud de la lista de numeros pares aleatorios es: 23\n",
      "La longitud de la lista de numeros impares aleatorios es: 17\n"
     ]
    }
   ],
   "source": [
    "listAle=[488, 917, 175, 526, 85, 884, 339, 1082, 634, 656, 54, 424, 408, 397, 475, 1161, 160, 492, 1152, 891, 735, 1162, 20, 874, 1185, 508, 213, 1184, 419, 310, 363, 877, 335, 673, 1036, 496, 422, 745, 1074, 428]\n",
    "listpar=[]\n",
    "listimp=[]\n",
    "def listas():\n",
    "    for i in range(40):\n",
    "        h=listAle[i]%2\n",
    "        if h==0:\n",
    "            listpar.append(listAle[i])\n",
    "        else:\n",
    "            listimp.append(listAle[i])\n",
    "    print(\"La longitud de la lista de numeros pares aleatorios es:\", len(listpar))\n",
    "    print(\"La longitud de la lista de numeros impares aleatorios es:\", len(listimp))\n",
    "listas()\n"
   ]
  },
  {
   "cell_type": "markdown",
   "metadata": {},
   "source": [
    "- Ordenar los elementos de la lista par de mayor a menor, y los de la lista impar de menor a mayor."
   ]
  },
  {
   "cell_type": "code",
   "execution_count": 52,
   "metadata": {},
   "outputs": [
    {
     "name": "stdout",
     "output_type": "stream",
     "text": [
      "Lista par ascendente:  [1184, 1162, 1152, 1082, 1074, 1036, 884, 874, 656, 634, 526, 508, 496, 492, 488, 428, 424, 422, 408, 310, 160, 54, 20] \n",
      "Lista impar descendente:  [85, 175, 213, 335, 339, 363, 397, 419, 475, 673, 735, 745, 877, 891, 917, 1161, 1185]\n"
     ]
    }
   ],
   "source": [
    "listpar=[488, 526, 884, 1082, 634, 656, 54, 424, 408, 160, 492, 1152, 1162, 20, 874, 508, 1184, 310, 1036, 496, 422, 1074, 428]\n",
    "listimp=[917, 175, 85, 339, 397, 475, 1161, 891, 735, 1185, 213, 419, 363, 877, 335, 673, 745]\n",
    "listpar.sort(reverse=True)\n",
    "listimp.sort()\n",
    "print(\"Lista par ascendente: \", listpar,\"\\nLista impar descendente: \",listimp)"
   ]
  },
  {
   "cell_type": "markdown",
   "metadata": {},
   "source": [
    "- Utilizar al menos cuatro de las funciones de listas en python en la lista original de 40 elementos."
   ]
  },
  {
   "cell_type": "code",
   "execution_count": 73,
   "metadata": {
    "scrolled": true
   },
   "outputs": [
    {
     "name": "stdout",
     "output_type": "stream",
     "text": [
      "Cantidad de datos en lista : 41 \n",
      "Numero mayor de los datos: 1185 \n",
      "Numero menor de los datos: 20 \n",
      "Suma de los datos de la lista:  24883\n",
      "Numero de veces que aparece el 424 en la lista:  2\n"
     ]
    }
   ],
   "source": [
    "listAle=[488, 917, 175, 526, 85, 884, 339, 1082, 634, 656, 54, 424, 408, 397, 475, 1161, 160, 492, 1152, 891, 735, 1162, 20, 874, 1185, 508, 213, 1184, 419, 310, 363, 877, 335, 673, 1036, 496, 422, 745, 1074, 428]\n",
    "listAle.insert(2,424)\n",
    "b=listAle.count(424)\n",
    "print(\"Cantidad de datos en lista :\",len(listAle),\"\\nNumero mayor de los datos:\",max(listAle),\"\\nNumero menor de los datos:\",min(listAle), \"\\nSuma de los datos de la lista: \",sum(listAle))\n",
    "print(\"Numero de veces que aparece el 424 en la lista: \",b)"
   ]
  },
  {
   "cell_type": "markdown",
   "metadata": {},
   "source": [
    "#### Diccionarios\n",
    "- Crear un diccionario de 6 personas que conozcas con su primer nombre y su edad."
   ]
  },
  {
   "cell_type": "code",
   "execution_count": 74,
   "metadata": {},
   "outputs": [
    {
     "name": "stdout",
     "output_type": "stream",
     "text": [
      "{'Nadia': '21', 'Nathanael': '22', 'Juan': '22', 'Arlette': '22', 'Leslie': '21', 'Abraham': '19'}\n"
     ]
    }
   ],
   "source": [
    "dic={'Nadia':'21','Nathanael':'22','Juan':'22','Arlette':'22','Leslie':'21','Abraham':'19'}"
   ]
  },
  {
   "cell_type": "markdown",
   "metadata": {},
   "source": [
    "- Crear una lista con los valores de la edad y reacomodar la lista de menor a mayor valor."
   ]
  },
  {
   "cell_type": "code",
   "execution_count": 83,
   "metadata": {},
   "outputs": [
    {
     "name": "stdout",
     "output_type": "stream",
     "text": [
      "Las edades son: [19, 20, 21, 21, 24, 26]\n"
     ]
    }
   ],
   "source": [
    "diccionario={'Nadia':21,'Nathanael':24,'Juan':26,'Arlette':20,'Leslie':21,'Abraham':19}\n",
    "edad=[]\n",
    "for i in diccionario:\n",
    "    if type(diccionario[i]) == type(98):\n",
    "        edad.append(diccionario[i])\n",
    "edad.sort()\n",
    "print(\"Las edades son:\",edad)"
   ]
  },
  {
   "cell_type": "markdown",
   "metadata": {},
   "source": [
    "- Usando el diccionario y un loop, imprimir solo los nombres"
   ]
  },
  {
   "cell_type": "code",
   "execution_count": 108,
   "metadata": {},
   "outputs": [
    {
     "name": "stdout",
     "output_type": "stream",
     "text": [
      "dict_keys(['Nadia', 'Nathanael', 'Juan', 'Arlette', 'Leslie', 'Abraham'])\n"
     ]
    }
   ],
   "source": [
    "diccionario={'Nadia':21,'Nathanael':24,'Juan':26,'Arlette':20,'Leslie':21,'Abraham':19}\n",
    "a=diccionario.keys()\n",
    "print(a)"
   ]
  },
  {
   "cell_type": "markdown",
   "metadata": {},
   "source": [
    "- Añadir dos personas nuevas a tu diccionario, incluyendo edad."
   ]
  },
  {
   "cell_type": "code",
   "execution_count": 2,
   "metadata": {},
   "outputs": [
    {
     "name": "stdout",
     "output_type": "stream",
     "text": [
      "{'Nadia': 21, 'Nathanael': 24, 'Juan': 26, 'Arlette': 20, 'Leslie': 21, 'Abraham': 19, 'Magaly': 25, 'Hector': 29}\n"
     ]
    }
   ],
   "source": [
    "diccionario={'Nadia':21,'Nathanael':24,'Juan':26,'Arlette':20,'Leslie':21,'Abraham':19}\n",
    "diccionario['Magaly']=25\n",
    "diccionario['Hector']=29\n",
    "print(diccionario)"
   ]
  },
  {
   "cell_type": "markdown",
   "metadata": {},
   "source": [
    "### Sets\n",
    "- Crea un set con 100 numeros aleatorios enteros del 1 al 25."
   ]
  },
  {
   "cell_type": "code",
   "execution_count": 92,
   "metadata": {},
   "outputs": [
    {
     "name": "stdout",
     "output_type": "stream",
     "text": [
      "Los sets no tienen valores duplicados: {1, 2, 3, 4, 5, 6, 7, 8, 9, 10, 11, 12, 13, 14, 15, 16, 17, 18, 19, 20, 21, 22, 23, 24, 25}\n"
     ]
    }
   ],
   "source": [
    "import random as r\n",
    "p=set()\n",
    "for i in range(50):\n",
    "    s=r.randint(1,25)\n",
    "    p.add(s)\n",
    "print(\"Los sets no tienen valores duplicados:\",p)"
   ]
  },
  {
   "cell_type": "markdown",
   "metadata": {},
   "source": [
    "- Comprueba la longitud de tu set."
   ]
  },
  {
   "cell_type": "code",
   "execution_count": 3,
   "metadata": {},
   "outputs": [
    {
     "name": "stdout",
     "output_type": "stream",
     "text": [
      "Los sets no tienen valores duplicados: {1, 2, 3, 4, 5, 6, 7, 8, 9, 10, 11, 12, 13, 14, 15, 16, 17, 18, 19, 20, 21, 22, 23, 24, 25}\n",
      "Por eso su longitud es: 25\n"
     ]
    }
   ],
   "source": [
    "import random as r\n",
    "p=set()\n",
    "for i in range(100):\n",
    "    s=r.randint(1,25)\n",
    "    p.add(s)\n",
    "print(\"Los sets no tienen valores duplicados:\",p)\n",
    "print(\"Por eso su longitud es:\",len(p))"
   ]
  },
  {
   "cell_type": "markdown",
   "metadata": {},
   "source": [
    "- Crea una lista de 5 numeros aleatorios del 1 al 10 y comprueba si cada valor aparece en el set inicial."
   ]
  },
  {
   "cell_type": "code",
   "execution_count": 11,
   "metadata": {},
   "outputs": [
    {
     "name": "stdout",
     "output_type": "stream",
     "text": [
      "El numero 6 aparece en el set.\n",
      "El numero 7 aparece en el set.\n",
      "El numero 2 aparece en el set.\n",
      "El numero 7 aparece en el set.\n",
      "El numero 9 aparece en el set.\n"
     ]
    }
   ],
   "source": [
    "lista = []\n",
    "\n",
    "for i in range(5):\n",
    "    lista.append(r.randint(1,10))\n",
    "    if lista[i] in p:\n",
    "        print(\"El numero\", lista[i],\"aparece en el set.\")\n",
    "    else:\n",
    "        print(\"El numero\", lista[i],\"No aparece en el set.\")"
   ]
  }
 ],
 "metadata": {
  "kernelspec": {
   "display_name": "Python 3",
   "language": "python",
   "name": "python3"
  },
  "language_info": {
   "codemirror_mode": {
    "name": "ipython",
    "version": 3
   },
   "file_extension": ".py",
   "mimetype": "text/x-python",
   "name": "python",
   "nbconvert_exporter": "python",
   "pygments_lexer": "ipython3",
   "version": "3.8.5"
  }
 },
 "nbformat": 4,
 "nbformat_minor": 4
}
